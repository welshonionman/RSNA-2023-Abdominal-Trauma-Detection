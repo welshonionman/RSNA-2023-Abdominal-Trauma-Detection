{
 "cells": [
  {
   "cell_type": "code",
   "execution_count": 8,
   "metadata": {},
   "outputs": [
    {
     "name": "stdout",
     "output_type": "stream",
     "text": [
      "/usr/local/bin/TotalSegmentator:5: DeprecationWarning: pkg_resources is deprecated as an API. See https://setuptools.pypa.io/en/latest/pkg_resources.html\n",
      "  from pkg_resources import require\n",
      "usage: TotalSegmentator [-h] -i filepath -o directory [-ot {nifti,dicom}]\n",
      "                        [-ml] [-nr NR_THR_RESAMP] [-ns NR_THR_SAVING] [-f]\n",
      "                        [-t NORA_TAG] [-p]\n",
      "                        [-ta {total,lung_vessels,cerebral_bleed,hip_implant,coronary_arteries,body,pleural_pericard_effusion,liver_vessels,bones_extremities,tissue_types,heartchambers_highres,head,aortic_branches,heartchambers_test,bones_tissue_test,aortic_branches_test,test}]\n",
      "                        [-rs ROI_SUBSET [ROI_SUBSET ...]] [-s] [-r]\n",
      "                        [-cp CROP_PATH] [-bs] [-fs] [-q] [-v] [--test 0|1|3]\n",
      "                        [--version]\n",
      "\n",
      "Segment 104 anatomical structures in CT images.\n",
      "\n",
      "options:\n",
      "  -h, --help            show this help message and exit\n",
      "  -i filepath           CT nifti image or folder of dicom slices\n",
      "  -o directory          Output directory for segmentation masks\n",
      "  -ot {nifti,dicom}, --output_type {nifti,dicom}\n",
      "                        Select if segmentations shall be saved as Nifti or as\n",
      "                        Dicom RT Struct image.\n",
      "  -ml, --ml             Save one multilabel image for all classes\n",
      "  -nr NR_THR_RESAMP, --nr_thr_resamp NR_THR_RESAMP\n",
      "                        Nr of threads for resampling\n",
      "  -ns NR_THR_SAVING, --nr_thr_saving NR_THR_SAVING\n",
      "                        Nr of threads for saving segmentations\n",
      "  -f, --fast            Run faster lower resolution model\n",
      "  -t NORA_TAG, --nora_tag NORA_TAG\n",
      "                        tag in nora as mask. Pass nora project id as argument.\n",
      "  -p, --preview         Generate a png preview of segmentation\n",
      "  -ta {total,lung_vessels,cerebral_bleed,hip_implant,coronary_arteries,body,pleural_pericard_effusion,liver_vessels,bones_extremities,tissue_types,heartchambers_highres,head,aortic_branches,heartchambers_test,bones_tissue_test,aortic_branches_test,test}, --task {total,lung_vessels,cerebral_bleed,hip_implant,coronary_arteries,body,pleural_pericard_effusion,liver_vessels,bones_extremities,tissue_types,heartchambers_highres,head,aortic_branches,heartchambers_test,bones_tissue_test,aortic_branches_test,test}\n",
      "                        Select which model to use. This determines what is\n",
      "                        predicted.\n",
      "  -rs ROI_SUBSET [ROI_SUBSET ...], --roi_subset ROI_SUBSET [ROI_SUBSET ...]\n",
      "                        Define a subset of classes to save (space separated\n",
      "                        list of class names). If running 1.5mm model, will\n",
      "                        only run the appropriate models for these rois.\n",
      "  -s, --statistics      Calc volume (in mm3) and mean intensity. Results will\n",
      "                        be in statistics.json\n",
      "  -r, --radiomics       Calc radiomics features. Requires pyradiomics. Results\n",
      "                        will be in statistics_radiomics.json\n",
      "  -cp CROP_PATH, --crop_path CROP_PATH\n",
      "                        Custom path to masks used for cropping. If not set\n",
      "                        will use output directory.\n",
      "  -bs, --body_seg       Do initial rough body segmentation and crop image to\n",
      "                        body region\n",
      "  -fs, --force_split    Process image in 3 chunks for less memory consumption\n",
      "  -q, --quiet           Print no intermediate outputs\n",
      "  -v, --verbose         Show more intermediate output\n",
      "  --test 0|1|3          Only needed for unittesting.\n",
      "  --version             show program's version number and exit\n",
      "\n",
      "Written by Jakob Wasserthal. If you use this tool please cite\n",
      "https://arxiv.org/abs/2208.05868\n"
     ]
    }
   ],
   "source": [
    "!TotalSegmentator -h"
   ]
  },
  {
   "cell_type": "code",
   "execution_count": 10,
   "metadata": {},
   "outputs": [
    {
     "name": "stdout",
     "output_type": "stream",
     "text": [
      "/usr/local/bin/TotalSegmentator\n"
     ]
    }
   ],
   "source": [
    "!which TotalSegmentator"
   ]
  },
  {
   "cell_type": "code",
   "execution_count": 1,
   "metadata": {},
   "outputs": [
    {
     "name": "stdout",
     "output_type": "stream",
     "text": [
      "/usr/local/bin/TotalSegmentator:5: DeprecationWarning: pkg_resources is deprecated as an API. See https://setuptools.pypa.io/en/latest/pkg_resources.html\n",
      "  from pkg_resources import require\n",
      "\n",
      "If you use this tool please cite: https://doi.org/10.48550/arXiv.2208.05868\n",
      "\n",
      "Converting dicom to nifti...\n",
      "  found image with shape (512, 512, 219)\n",
      "Resampling...\n",
      "  Resampled in 5.68s\n",
      "Predicting part 1 of 2 ...\n",
      "Predicting part 2 of 2 ...\n",
      "  Predicted in 19.29s\n",
      "Resampling...\n",
      "Saving segmentations...\n",
      "100%|█████████████████████████████████████████████| 9/9 [00:00<00:00,  9.86it/s]\n",
      "  Saved in 1.68s\n"
     ]
    }
   ],
   "source": [
    "!TotalSegmentator \\\n",
    "-i /kaggle/input/rsna-2023-abdominal-trauma-detection/train_images/10104/27573 \\\n",
    "-o /kaggle/temp/masks \\\n",
    "-ot 'nifti' \\\n",
    "-rs spleen kidney_left kidney_right liver esophagus colon duodenum small_bowel stomach"
   ]
  },
  {
   "cell_type": "code",
   "execution_count": 11,
   "metadata": {},
   "outputs": [],
   "source": [
    "!mv /kaggle/Task255_TotalSegmentator_part5_ribs_1139subj /root/.totalsegmentator/nnunet/results/nnUNet/3d_fullres"
   ]
  },
  {
   "cell_type": "code",
   "execution_count": null,
   "metadata": {},
   "outputs": [],
   "source": []
  }
 ],
 "metadata": {
  "kernelspec": {
   "display_name": "Python 3",
   "language": "python",
   "name": "python3"
  },
  "language_info": {
   "codemirror_mode": {
    "name": "ipython",
    "version": 3
   },
   "file_extension": ".py",
   "mimetype": "text/x-python",
   "name": "python",
   "nbconvert_exporter": "python",
   "pygments_lexer": "ipython3",
   "version": "3.10.11"
  },
  "orig_nbformat": 4
 },
 "nbformat": 4,
 "nbformat_minor": 2
}
