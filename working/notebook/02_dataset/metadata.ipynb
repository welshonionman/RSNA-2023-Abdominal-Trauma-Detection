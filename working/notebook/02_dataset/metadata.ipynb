{
 "cells": [
  {
   "cell_type": "code",
   "execution_count": 12,
   "metadata": {},
   "outputs": [],
   "source": [
    "import pandas as pd\n",
    "import os\n",
    "from glob import glob\n",
    "import numpy as np\n",
    "\n",
    "def scan_type(x):\n",
    "    if x[\"aortic_hu_max\"]==x[\"aortic_hu_min\"]:\n",
    "        return \"single\"\n",
    "    elif x[\"aortic_hu\"]==x[\"aortic_hu_min\"]:\n",
    "        return \"venous\"\n",
    "    elif x[\"aortic_hu\"]==x[\"aortic_hu_max\"]:\n",
    "        return \"arterial\"\n",
    "    \n",
    "def process_meta(input_meta_path, output_meta_path):\n",
    "    meta = pd.read_csv(input_meta_path)\n",
    "    aor_max = meta.groupby(\"patient_id\").aortic_hu.max().reset_index()\n",
    "    aor_min = meta.groupby(\"patient_id\").aortic_hu.min().reset_index()\n",
    "    meta = pd.merge(meta, aor_max, on=\"patient_id\", how=\"left\").rename(columns={\"aortic_hu_x\": \"aortic_hu\", \"aortic_hu_y\": \"aortic_hu_max\"})\n",
    "    meta = pd.merge(meta, aor_min, on=\"patient_id\", how=\"left\").rename(columns={\"aortic_hu_x\": \"aortic_hu\", \"aortic_hu_y\": \"aortic_hu_min\"})\n",
    "    meta[\"scan_type\"]=meta.apply(scan_type,axis=1)\n",
    "    meta.drop(columns=[\"aortic_hu_max\",\"aortic_hu_min\"],inplace=True)\n",
    "    meta.sort_values([\"patient_id\",\"scan_type\"],inplace=True)\n",
    "    meta.to_csv(output_meta_path,index=False)"
   ]
  },
  {
   "cell_type": "code",
   "execution_count": 13,
   "metadata": {},
   "outputs": [],
   "source": [
    "input_meta_path = \"/kaggle/input/rsna-2023-abdominal-trauma-detection/train_series_meta.csv\"\n",
    "output_meta_path = \"/kaggle/dataset/train/train_series_meta.csv\"\n",
    "process_meta(input_meta_path, output_meta_path)"
   ]
  },
  {
   "cell_type": "code",
   "execution_count": 7,
   "metadata": {},
   "outputs": [],
   "source": [
    "meta = pd.read_csv(\"/kaggle/input/rsna-2023-abdominal-trauma-detection/train_series_meta.csv\")\n",
    "aor_max = meta.groupby(\"patient_id\").aortic_hu.max().reset_index()\n",
    "aor_min = meta.groupby(\"patient_id\").aortic_hu.min().reset_index()\n",
    "meta = pd.merge(meta, aor_max, on=\"patient_id\", how=\"left\").rename(columns={\"aortic_hu_x\": \"aortic_hu\", \"aortic_hu_y\": \"aortic_hu_max\"})\n",
    "meta = pd.merge(meta, aor_min, on=\"patient_id\", how=\"left\").rename(columns={\"aortic_hu_x\": \"aortic_hu\", \"aortic_hu_y\": \"aortic_hu_min\"})\n",
    "\n",
    "meta[\"scan_type\"]=meta.apply(scan_type,axis=1)\n",
    "meta.drop(columns=[\"aortic_hu_max\",\"aortic_hu_min\"],inplace=True)\n",
    "meta.sort_values([\"patient_id\",\"scan_type\"],inplace=True)\n",
    "meta.to_csv(\"/kaggle/dataset/train/train_series_meta.csv\",index=False)"
   ]
  },
  {
   "cell_type": "code",
   "execution_count": 9,
   "metadata": {},
   "outputs": [],
   "source": []
  },
  {
   "cell_type": "code",
   "execution_count": null,
   "metadata": {},
   "outputs": [],
   "source": []
  }
 ],
 "metadata": {
  "kernelspec": {
   "display_name": "Python 3",
   "language": "python",
   "name": "python3"
  },
  "language_info": {
   "codemirror_mode": {
    "name": "ipython",
    "version": 3
   },
   "file_extension": ".py",
   "mimetype": "text/x-python",
   "name": "python",
   "nbconvert_exporter": "python",
   "pygments_lexer": "ipython3",
   "version": "3.10.11"
  },
  "orig_nbformat": 4
 },
 "nbformat": 4,
 "nbformat_minor": 2
}
